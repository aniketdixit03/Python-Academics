{
 "cells": [
  {
   "cell_type": "code",
   "execution_count": 2,
   "metadata": {},
   "outputs": [],
   "source": [
    "import pandas as pd\n",
    "import numpy as np\n",
    "import numpy.linalg as la\n",
    "\n",
    "from sklearn.model_selection import train_test_split\n",
    "from sklearn.ensemble import RandomForestClassifier  \n",
    "from sklearn.metrics import accuracy_score\n",
    "import statistics\n",
    "\n",
    "import matplotlib.pyplot as plt\n"
   ]
  },
  {
   "cell_type": "code",
   "execution_count": null,
   "metadata": {},
   "outputs": [],
   "source": [
    "df = pd.read_excel('Lab Session1 Data (ML).xlsx', sheet_name='Purchase data')\n",
    "df = df.dropna(axis=1)\n",
    "df"
   ]
  },
  {
   "cell_type": "code",
   "execution_count": 101,
   "metadata": {},
   "outputs": [
    {
     "name": "stdout",
     "output_type": "stream",
     "text": [
      "Matrix A:\n",
      "[[20  6  2]\n",
      " [16  3  6]\n",
      " [27  6  2]\n",
      " [19  1  2]\n",
      " [24  4  2]\n",
      " [22  1  5]\n",
      " [15  4  2]\n",
      " [18  4  2]\n",
      " [21  1  4]\n",
      " [16  2  4]]\n",
      "Matrix C:\n",
      "[386 289 393 110 280 167 271 274 148 198]\n",
      "Rank of matrix A:  3\n"
     ]
    }
   ],
   "source": [
    "A = df.iloc[:, 1:-1].values\n",
    "# A\n",
    "C = df.iloc[:, -1].values\n",
    "\n",
    "A = np.array(A)\n",
    "C = np.array(C)\n",
    "\n",
    "\n",
    "print(\"Matrix A:\")\n",
    "print(A)\n",
    "print(\"Matrix C:\")\n",
    "print(C)\n",
    "rank = np.linalg.matrix_rank(A)\n",
    "print(\"Rank of matrix A: \", rank)\n",
    "\n"
   ]
  },
  {
   "cell_type": "code",
   "execution_count": 102,
   "metadata": {},
   "outputs": [
    {
     "data": {
      "text/plain": [
       "array([ 1., 55., 18.])"
      ]
     },
     "execution_count": 102,
     "metadata": {},
     "output_type": "execute_result"
    }
   ],
   "source": [
    "# Using Pseudo-Inverse find the cost of each product available for sale.\n",
    "# (Suggestion: If you use Python, you can use numpy.linalg.pinv() function to get a pseudo-inverse.)\n",
    "\n",
    "cost_each_product = np.linalg.pinv(A).dot(C)\n",
    "cost_each_product"
   ]
  },
  {
   "cell_type": "code",
   "execution_count": 103,
   "metadata": {},
   "outputs": [
    {
     "data": {
      "text/plain": [
       "array([386., 289., 393., 110., 280., 167., 271., 274., 148., 198.])"
      ]
     },
     "execution_count": 103,
     "metadata": {},
     "output_type": "execute_result"
    }
   ],
   "source": [
    "# Use the Pseudo-inverse to calculate the model vector X\n",
    "# for predicting the cost of the products available with the vendor\n",
    "\n",
    "model_Vector_X = A.dot(cost_each_product)\n",
    "model_Vector_X\n",
    "\n",
    "\n"
   ]
  },
  {
   "cell_type": "code",
   "execution_count": 104,
   "metadata": {},
   "outputs": [
    {
     "name": "stdout",
     "output_type": "stream",
     "text": [
      "Accuracy:  1.0\n"
     ]
    }
   ],
   "source": [
    "df['Category'] = df['Payment (Rs)'] > 200\n",
    "df['Category'] = df['Category'].replace({True:'RICH', False: 'POOR'})\n",
    "\n",
    "features = df.iloc[:, 1:-2].values\n",
    "X_train, X_test, y_train, y_test = train_test_split(features, df['Category'], test_size=0.2, random_state=0)\n",
    "\n",
    "clf = RandomForestClassifier()\n",
    "\n",
    "clf.fit(X_train, y_train)\n",
    "\n",
    "y_pred = clf.predict(X_test)\n",
    "\n",
    "accuracy = accuracy_score(y_test, y_pred)\n",
    "print(\"Accuracy: \", accuracy)\n",
    "# df"
   ]
  },
  {
   "cell_type": "markdown",
   "metadata": {},
   "source": [
    "WORKING WITH IRCTC STOCK PRICE\n"
   ]
  },
  {
   "cell_type": "code",
   "execution_count": 105,
   "metadata": {},
   "outputs": [
    {
     "name": "stdout",
     "output_type": "stream",
     "text": [
      "Mean:  1560.663453815261\n",
      "Variance:  58732.365352539186\n"
     ]
    }
   ],
   "source": [
    "irctc_df = pd.read_excel('Lab Session1 Data.xlsx', sheet_name=1)\n",
    "# irctc_df\n",
    "\n",
    "price_data = irctc_df['Price'].tolist()\n",
    "price_data\n",
    "\n",
    "mean_price = statistics.mean(price_data)\n",
    "\n",
    "variance_price = statistics.variance(price_data)\n",
    "\n",
    "print(\"Mean: \", mean_price)\n",
    "print(\"Variance: \", variance_price)\n",
    "# irctc_df"
   ]
  },
  {
   "cell_type": "code",
   "execution_count": 106,
   "metadata": {},
   "outputs": [
    {
     "name": "stdout",
     "output_type": "stream",
     "text": [
      "Sample Mean for wednesday:  1550.706\n"
     ]
    }
   ],
   "source": [
    "irctc_df['Day'] = pd.to_datetime(irctc_df['Date'])\n",
    "irctc_df\n",
    "\n",
    "wednesday_data = irctc_df[irctc_df['Day'].dt.weekday == 2]['Price'].tolist()\n",
    "\n",
    "sample_mean = statistics.mean(wednesday_data)\n",
    "print(\"Sample Mean for wednesday: \", sample_mean)\n"
   ]
  },
  {
   "cell_type": "code",
   "execution_count": 107,
   "metadata": {},
   "outputs": [
    {
     "name": "stdout",
     "output_type": "stream",
     "text": [
      "Sample mean for april:  1698.9526315789474\n"
     ]
    }
   ],
   "source": [
    "irctc_df['Date'] = pd.to_datetime(irctc_df['Date'])\n",
    "\n",
    "april_data = irctc_df[irctc_df['Date'].dt.month == 4]['Price'].tolist() # 4 -> april\n",
    "april_sample_mean = statistics.mean(april_data)\n",
    "print('Sample mean for april: ', april_sample_mean)"
   ]
  },
  {
   "cell_type": "code",
   "execution_count": 108,
   "metadata": {},
   "outputs": [
    {
     "name": "stdout",
     "output_type": "stream",
     "text": [
      "Probability of Making a Loss: 49.80%\n"
     ]
    }
   ],
   "source": [
    "chg_per = irctc_df['Chg%']\n",
    "neg_changes = chg_per.apply(lambda x: x < 0)\n",
    "\n",
    "prob_of_loss = neg_changes.mean()\n",
    "print(f\"Probability of Making a Loss: {prob_of_loss:.2%}\")"
   ]
  },
  {
   "cell_type": "code",
   "execution_count": 109,
   "metadata": {},
   "outputs": [
    {
     "name": "stdout",
     "output_type": "stream",
     "text": [
      "Probability of Making a Profit on Wednesdays: 42.00%\n"
     ]
    }
   ],
   "source": [
    "wednesday_data_new = irctc_df[irctc_df['Day'].dt.weekday == 2]\n",
    "profit_prob_wed = (wednesday_data_new['Chg%'] > 0).mean()\n",
    "print(f\"Probability of Making a Profit on Wednesdays: {profit_prob_wed:.2%}\")"
   ]
  },
  {
   "cell_type": "code",
   "execution_count": 110,
   "metadata": {},
   "outputs": [],
   "source": [
    "# cond_profit_prob = (wednesday_data_new['Chg%'] > 0).mean() * (wednesday_data_new['Chg%'] > 0.05).mean()\n",
    "wed_profit_prob = (wednesday_data_new['Chg%'] > 0).mean()\n",
    "# wed_prob = wednesday_data_new.mean()\n",
    "# wednesday_data_new\n",
    "\n",
    "\n"
   ]
  },
  {
   "cell_type": "code",
   "execution_count": 111,
   "metadata": {},
   "outputs": [
    {
     "data": {
      "text/plain": [
       "2.0916"
      ]
     },
     "execution_count": 111,
     "metadata": {},
     "output_type": "execute_result"
    }
   ],
   "source": [
    "wednesday_data = irctc_df[irctc_df['Day'].dt.weekday == 2]\n",
    "wednesday_profit_prob = (wednesday_data['Chg%'] > 0).mean()\n",
    "wednesday_prob = (irctc_df['Day'].dt.weekday == 2).mean()\n",
    "cond_profit_prob = wednesday_profit_prob / wednesday_prob\n",
    "\n",
    "# wednesday_data = irctc_df[irctc_df['Day'] == 'Wed']\n",
    "# wednesday_profit_prob = (wednesday_data['Chg%'] > 0).mean()\n",
    "# wednesday_prob = (irctc_df['Day'] == 'Wed').mean()\n",
    "# cond_profit_prob = wednesday_profit_prob / wednesday_prob\n",
    "\n",
    "cond_profit_prob"
   ]
  },
  {
   "cell_type": "code",
   "execution_count": 122,
   "metadata": {},
   "outputs": [
    {
     "data": {
      "image/png": "[encoded data removed]",
      "text/plain": [
       "<Figure size 1000x600 with 1 Axes>"
      ]
     },
     "metadata": {},
     "output_type": "display_data"
    },
    {
     "data": {
      "text/html": [
       "<div>\n",
       "<style scoped>\n",
       "    .dataframe tbody tr th:only-of-type {\n",
       "        vertical-align: middle;\n",
       "    }\n",
       "\n",
       "    .dataframe tbody tr th {\n",
       "        vertical-align: top;\n",
       "    }\n",
       "\n",
       "    .dataframe thead th {\n",
       "        text-align: right;\n",
       "    }\n",
       "</style>\n",
       "<table border=\"1\" class=\"dataframe\">\n",
       "  <thead>\n",
       "    <tr style=\"text-align: right;\">\n",
       "      <th></th>\n",
       "      <th>Date</th>\n",
       "      <th>Month</th>\n",
       "      <th>Day</th>\n",
       "      <th>Price</th>\n",
       "      <th>Open</th>\n",
       "      <th>High</th>\n",
       "      <th>Low</th>\n",
       "      <th>Volume</th>\n",
       "      <th>Chg%</th>\n",
       "      <th>DayOfWeek</th>\n",
       "    </tr>\n",
       "  </thead>\n",
       "  <tbody>\n",
       "    <tr>\n",
       "      <th>0</th>\n",
       "      <td>2021-06-29</td>\n",
       "      <td>Jun</td>\n",
       "      <td>2021-06-29</td>\n",
       "      <td>2081.85</td>\n",
       "      <td>2092.00</td>\n",
       "      <td>2126.90</td>\n",
       "      <td>2065.05</td>\n",
       "      <td>1.67M</td>\n",
       "      <td>0.0020</td>\n",
       "      <td>1</td>\n",
       "    </tr>\n",
       "    <tr>\n",
       "      <th>1</th>\n",
       "      <td>2021-06-28</td>\n",
       "      <td>Jun</td>\n",
       "      <td>2021-06-28</td>\n",
       "      <td>2077.75</td>\n",
       "      <td>2084.00</td>\n",
       "      <td>2112.45</td>\n",
       "      <td>2068.40</td>\n",
       "      <td>707.73K</td>\n",
       "      <td>0.0043</td>\n",
       "      <td>0</td>\n",
       "    </tr>\n",
       "    <tr>\n",
       "      <th>2</th>\n",
       "      <td>2021-06-25</td>\n",
       "      <td>Jun</td>\n",
       "      <td>2021-06-25</td>\n",
       "      <td>2068.85</td>\n",
       "      <td>2084.35</td>\n",
       "      <td>2088.50</td>\n",
       "      <td>2053.10</td>\n",
       "      <td>475.82K</td>\n",
       "      <td>-0.0020</td>\n",
       "      <td>4</td>\n",
       "    </tr>\n",
       "    <tr>\n",
       "      <th>3</th>\n",
       "      <td>2021-06-24</td>\n",
       "      <td>Jun</td>\n",
       "      <td>2021-06-24</td>\n",
       "      <td>2072.95</td>\n",
       "      <td>2098.00</td>\n",
       "      <td>2098.00</td>\n",
       "      <td>2066.00</td>\n",
       "      <td>541.51K</td>\n",
       "      <td>-0.0026</td>\n",
       "      <td>3</td>\n",
       "    </tr>\n",
       "    <tr>\n",
       "      <th>4</th>\n",
       "      <td>2021-06-23</td>\n",
       "      <td>Jun</td>\n",
       "      <td>2021-06-23</td>\n",
       "      <td>2078.25</td>\n",
       "      <td>2102.00</td>\n",
       "      <td>2111.40</td>\n",
       "      <td>2072.00</td>\n",
       "      <td>809.62K</td>\n",
       "      <td>-0.0023</td>\n",
       "      <td>2</td>\n",
       "    </tr>\n",
       "    <tr>\n",
       "      <th>...</th>\n",
       "      <td>...</td>\n",
       "      <td>...</td>\n",
       "      <td>...</td>\n",
       "      <td>...</td>\n",
       "      <td>...</td>\n",
       "      <td>...</td>\n",
       "      <td>...</td>\n",
       "      <td>...</td>\n",
       "      <td>...</td>\n",
       "      <td>...</td>\n",
       "    </tr>\n",
       "    <tr>\n",
       "      <th>244</th>\n",
       "      <td>2020-07-07</td>\n",
       "      <td>Jul</td>\n",
       "      <td>2020-07-07</td>\n",
       "      <td>1397.40</td>\n",
       "      <td>1410.00</td>\n",
       "      <td>1411.00</td>\n",
       "      <td>1390.05</td>\n",
       "      <td>480.21K</td>\n",
       "      <td>-0.0024</td>\n",
       "      <td>1</td>\n",
       "    </tr>\n",
       "    <tr>\n",
       "      <th>245</th>\n",
       "      <td>2020-07-06</td>\n",
       "      <td>Jul</td>\n",
       "      <td>2020-07-06</td>\n",
       "      <td>1400.75</td>\n",
       "      <td>1405.50</td>\n",
       "      <td>1415.50</td>\n",
       "      <td>1394.00</td>\n",
       "      <td>614.93K</td>\n",
       "      <td>-0.0031</td>\n",
       "      <td>0</td>\n",
       "    </tr>\n",
       "    <tr>\n",
       "      <th>246</th>\n",
       "      <td>2020-07-03</td>\n",
       "      <td>Jul</td>\n",
       "      <td>2020-07-03</td>\n",
       "      <td>1405.10</td>\n",
       "      <td>1415.00</td>\n",
       "      <td>1425.00</td>\n",
       "      <td>1398.00</td>\n",
       "      <td>599.49K</td>\n",
       "      <td>-0.0051</td>\n",
       "      <td>4</td>\n",
       "    </tr>\n",
       "    <tr>\n",
       "      <th>247</th>\n",
       "      <td>2020-07-02</td>\n",
       "      <td>Jul</td>\n",
       "      <td>2020-07-02</td>\n",
       "      <td>1412.35</td>\n",
       "      <td>1440.00</td>\n",
       "      <td>1467.80</td>\n",
       "      <td>1395.30</td>\n",
       "      <td>2.16M</td>\n",
       "      <td>0.0362</td>\n",
       "      <td>3</td>\n",
       "    </tr>\n",
       "    <tr>\n",
       "      <th>248</th>\n",
       "      <td>2020-07-01</td>\n",
       "      <td>Jul</td>\n",
       "      <td>2020-07-01</td>\n",
       "      <td>1363.05</td>\n",
       "      <td>1363.65</td>\n",
       "      <td>1377.00</td>\n",
       "      <td>1356.00</td>\n",
       "      <td>383.00K</td>\n",
       "      <td>0.0032</td>\n",
       "      <td>2</td>\n",
       "    </tr>\n",
       "  </tbody>\n",
       "</table>\n",
       "<p>249 rows × 10 columns</p>\n",
       "</div>"
      ],
      "text/plain": [
       "          Date Month        Day    Price     Open     High      Low   Volume  \\\n",
       "0   2021-06-29   Jun 2021-06-29  2081.85  2092.00  2126.90  2065.05    1.67M   \n",
       "1   2021-06-28   Jun 2021-06-28  2077.75  2084.00  2112.45  2068.40  707.73K   \n",
       "2   2021-06-25   Jun 2021-06-25  2068.85  2084.35  2088.50  2053.10  475.82K   \n",
       "3   2021-06-24   Jun 2021-06-24  2072.95  2098.00  2098.00  2066.00  541.51K   \n",
       "4   2021-06-23   Jun 2021-06-23  2078.25  2102.00  2111.40  2072.00  809.62K   \n",
       "..         ...   ...        ...      ...      ...      ...      ...      ...   \n",
       "244 2020-07-07   Jul 2020-07-07  1397.40  1410.00  1411.00  1390.05  480.21K   \n",
       "245 2020-07-06   Jul 2020-07-06  1400.75  1405.50  1415.50  1394.00  614.93K   \n",
       "246 2020-07-03   Jul 2020-07-03  1405.10  1415.00  1425.00  1398.00  599.49K   \n",
       "247 2020-07-02   Jul 2020-07-02  1412.35  1440.00  1467.80  1395.30    2.16M   \n",
       "248 2020-07-01   Jul 2020-07-01  1363.05  1363.65  1377.00  1356.00  383.00K   \n",
       "\n",
       "       Chg%  DayOfWeek  \n",
       "0    0.0020          1  \n",
       "1    0.0043          0  \n",
       "2   -0.0020          4  \n",
       "3   -0.0026          3  \n",
       "4   -0.0023          2  \n",
       "..      ...        ...  \n",
       "244 -0.0024          1  \n",
       "245 -0.0031          0  \n",
       "246 -0.0051          4  \n",
       "247  0.0362          3  \n",
       "248  0.0032          2  \n",
       "\n",
       "[249 rows x 10 columns]"
      ]
     },
     "execution_count": 122,
     "metadata": {},
     "output_type": "execute_result"
    }
   ],
   "source": [
    "# plotting the graph\n",
    "\n",
    "irctc_df['DayOfWeek'] = irctc_df['Date'].dt.weekday\n",
    "\n",
    "\n",
    "#creating a plot\n",
    "\n",
    "plt.figure(figsize=(10, 6))\n",
    "plt.scatter(irctc_df['DayOfWeek'], irctc_df['Price'], alpha=0.5)\n",
    "plt.xlabel('Day of the Week')\n",
    "plt.ylabel('Chg% Price')\n",
    "plt.title('Scatter Plot of Chg% vs Day of the Week')\n",
    "plt.xticks(range(7), ['Mon', 'Tue', 'Wed', 'Thu', 'Fri', 'Sat', 'Sun'])\n",
    "plt.grid(True)\n",
    "\n",
    "plt.show()\n",
    "# irctc_df"
   ]
  }
 ],
 "metadata": {
  "kernelspec": {
   "display_name": "base",
   "language": "python",
   "name": "python3"
  },
  "language_info": {
   "codemirror_mode": {
    "name": "ipython",
    "version": 3
   },
   "file_extension": ".py",
   "mimetype": "text/x-python",
   "name": "python",
   "nbconvert_exporter": "python",
   "pygments_lexer": "ipython3",
   "version": "3.11.4"
  },
  "orig_nbformat": 4
 },
 "nbformat": 4,
 "nbformat_minor": 2
}
