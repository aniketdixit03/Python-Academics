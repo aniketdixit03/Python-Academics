{
 "cells": [
  {
   "cell_type": "raw",
   "id": "e5afb72d-bf4b-46aa-81bc-6f046d8014d7",
   "metadata": {},
   "source": [
    "1.Given an unsorted integer array, find a pair with the given sum in it."
   ]
  },
  {
   "cell_type": "code",
   "execution_count": 2,
   "id": "12582de3-cfcf-4a28-a525-747dfb03b5d5",
   "metadata": {},
   "outputs": [
    {
     "name": "stdout",
     "output_type": "stream",
     "text": [
      "Pair found: 3 and 6\n"
     ]
    }
   ],
   "source": [
    "def find_pair_with_sum(arr, target_sum):\n",
    "    left, right = 0, len(arr) - 1 \n",
    "\n",
    "    while left < right:\n",
    "        current_sum = arr[left] + arr[right]\n",
    "\n",
    "        if current_sum == target_sum:\n",
    "            return (arr[left], arr[right]) \n",
    "        elif current_sum < target_sum:\n",
    "            left += 1  \n",
    "        else:\n",
    "            right -= 1  \n",
    "   \n",
    "    return None\n",
    "\n",
    "num = [1, 2, 3, 4, 5, 6]\n",
    "target = 9\n",
    "result = find_pair_with_sum(num, target)\n",
    "if result:\n",
    "    print(f\"Pair found: {result[0]} and {result[1]}\")\n",
    "else:\n",
    "    print(\"No pair found with the given sum.\")\n"
   ]
  },
  {
   "cell_type": "raw",
   "id": "80673249-1e81-4f37-8e9b-f228dbea4efa",
   "metadata": {},
   "source": [
    "2. Given an unsorted integer array containing both positive and negative numbers, find a \n",
    "pair with maximum product in it.\n",
    "Input:\n",
    "If we have an array say arr = [1, 7, 4, 2, 8, 6, 3, 9, 5]\n",
    "Then in this array first two bigger numbers are 9 and 8.\n",
    "So, product is 9*8=72 which is maximum product"
   ]
  },
  {
   "cell_type": "code",
   "execution_count": 3,
   "id": "2dd1ef39-988e-48ff-a4ce-766f61351aca",
   "metadata": {},
   "outputs": [
    {
     "name": "stdout",
     "output_type": "stream",
     "text": [
      "Maximum product pair: 72\n"
     ]
    }
   ],
   "source": [
    "def max_product_pair(arr):\n",
    "    if len(arr) < 2:\n",
    "        return None  # Not enough elements to form a pair\n",
    "    \n",
    "    max1, max2, min1, min2 = arr[0], arr[1], arr[0], arr[1]\n",
    "\n",
    "    for num in arr:\n",
    "        if num > max1:\n",
    "            max2 = max1\n",
    "            max1 = num\n",
    "        elif num > max2:\n",
    "            max2 = num\n",
    "\n",
    "        if num < min1:\n",
    "            min2 = min1\n",
    "            min1 = num\n",
    "        elif num < min2:\n",
    "            min2 = num\n",
    "\n",
    "    max_product = max(max1 * max2, min1 * min2)\n",
    "    return max_product\n",
    "\n",
    "\n",
    "arr = [1, 7, 4, 2, 8, 6, 3, 9, 5]\n",
    "result = max_product_pair(arr)\n",
    "if result is not None:\n",
    "    print(f\"Maximum product pair: {result}\")\n",
    "else:\n",
    "    print(\"Not enough elements to find a pair.\")\n",
    "\n"
   ]
  },
  {
   "cell_type": "raw",
   "id": "14c45e20-2ee9-4723-a792-15ee88db0dc2",
   "metadata": {},
   "source": [
    "3. Given an array where all its elements are sorted except two swapped elements, sort it in \n",
    "linear time. Assume there are no duplicates in the array."
   ]
  },
  {
   "cell_type": "code",
   "execution_count": 4,
   "id": "8a820f0b-91e0-48d5-8dce-7afc7373e21e",
   "metadata": {},
   "outputs": [
    {
     "name": "stdout",
     "output_type": "stream",
     "text": [
      "Sorted array: [2, 5, 3, 4, 1, 6]\n"
     ]
    }
   ],
   "source": [
    "def sort_swapped_elements(arr):\n",
    "    first, second = -1, -1  # Initialize with a sentinel value\n",
    "\n",
    "    for i in range(len(arr) - 1):\n",
    "        if arr[i] > arr[i + 1]:\n",
    "            if first == -1:\n",
    "                first = i\n",
    "            second = i + 1\n",
    "\n",
    "    if first != -1:\n",
    "        for i in range(len(arr) - 1, -1, -1):\n",
    "            if arr[i] < arr[second]:\n",
    "                first = i\n",
    "                break\n",
    "\n",
    "        arr[first], arr[second] = arr[second], arr[first]\n",
    "\n",
    "# Example usage:\n",
    "arr = [1, 5, 3, 4, 2, 6]\n",
    "sort_swapped_elements(arr)\n",
    "print(\"Sorted array:\", arr)\n"
   ]
  },
  {
   "cell_type": "raw",
   "id": "9dde382d-50f6-4afe-ac14-79bf24fa541b",
   "metadata": {},
   "source": [
    "4. Given a binary array of 0’s and 1’s. Segregate all 0’s followed by 1."
   ]
  },
  {
   "cell_type": "code",
   "execution_count": 6,
   "id": "e6537319-b634-43a4-8711-a726ee93ec6d",
   "metadata": {},
   "outputs": [
    {
     "name": "stdout",
     "output_type": "stream",
     "text": [
      "output array: [0, 0, 0, 0, 1, 1, 1, 1]\n"
     ]
    }
   ],
   "source": [
    "def segregate_zeros_ones(arr):\n",
    "    left = 0\n",
    "    right = len(arr) - 1\n",
    "\n",
    "    while left <= right:\n",
    "        if arr[left] == 0:\n",
    "            left += 1\n",
    "        else:\n",
    "            arr[left], arr[right] = arr[right], arr[left]\n",
    "            right -= 1\n",
    "\n",
    "# Example usage:\n",
    "input_array = [0, 1, 0, 1, 1, 0, 0, 1]\n",
    "segregate_zeros_ones(binary_array)\n",
    "print(\"output array:\", binary_array)\n"
   ]
  },
  {
   "cell_type": "raw",
   "id": "61ce08fd-3cec-4eb1-af34-6f537fa26418",
   "metadata": {},
   "source": [
    "5. Write a program to implement inversion count.\n",
    "Given the Input (non-negative integers): A = {10 , 1 , 2 , 4 , 13 , 9 , 5 }\n",
    "The number of inversions that are possible are as follows: \n",
    "{ ( 10 , 1 ) , ( 10 , 2 ) , ( 10 , 4 ) , ( 10 , 9 ) , ( 10 , 5 ) , ( 13 , 9 ) , ( 13 , 5 ) , ( 9 , 5 ) }\n",
    "Total count of inversions are: 8"
   ]
  },
  {
   "cell_type": "code",
   "execution_count": 7,
   "id": "90ce5295-ed58-475c-ae14-6bb02eb57a13",
   "metadata": {},
   "outputs": [
    {
     "name": "stdout",
     "output_type": "stream",
     "text": [
      "Total count of inversions: 8\n"
     ]
    }
   ],
   "source": [
    "def merge_and_count_inversions(arr, left, mid, right):\n",
    "    n1 = mid - left + 1\n",
    "    n2 = right - mid\n",
    "\n",
    "    left_half = arr[left:mid + 1]\n",
    "    right_half = arr[mid + 1:right + 1]\n",
    "\n",
    "    i, j, k = 0, 0, left\n",
    "    inversions = 0\n",
    "\n",
    "    while i < n1 and j < n2:\n",
    "        if left_half[i] <= right_half[j]:\n",
    "            arr[k] = left_half[i]\n",
    "            i += 1\n",
    "        else:\n",
    "            arr[k] = right_half[j]\n",
    "            j += 1\n",
    "            inversions += (n1 - i)\n",
    "        k += 1\n",
    "\n",
    "    while i < n1:\n",
    "        arr[k] = left_half[i]\n",
    "        i += 1\n",
    "        k += 1\n",
    "\n",
    "    while j < n2:\n",
    "        arr[k] = right_half[j]\n",
    "        j += 1\n",
    "        k += 1\n",
    "\n",
    "    return inversions\n",
    "\n",
    "def count_inversions_and_sort(arr, left, right):\n",
    "    inversions = 0\n",
    "    if left < right:\n",
    "        mid = (left + right) // 2\n",
    "        inversions += count_inversions_and_sort(arr, left, mid)\n",
    "        inversions += count_inversions_and_sort(arr, mid + 1, right)\n",
    "        inversions += merge_and_count_inversions(arr, left, mid, right)\n",
    "    return inversions\n",
    "\n",
    "def inversion_count(arr):\n",
    "    return count_inversions_and_sort(arr, 0, len(arr) - 1)\n",
    "\n",
    "# Example usage:\n",
    "arr = [10, 1, 2, 4, 13, 9, 5]\n",
    "inversions = inversion_count(arr)\n",
    "print(\"Total count of inversions:\", inversions)\n"
   ]
  },
  {
   "cell_type": "raw",
   "id": "654d9a02-f01e-489a-90c3-bfb5608da76a",
   "metadata": {},
   "source": [
    "6. An array contains N numbers, and you want to determine whether two of the numbers sum \n",
    "to a given number K. For example, if the input is 8, 4, 1, 6 and K is 10, the answer is yes \n",
    "(4 and 6). A number may be used twice.\n",
    "a. Give an 𝑂(𝑛2) algorithm to solve this problem.\n",
    "b. Give an 𝑂(𝑛𝑙𝑜𝑔𝑛) algorithm to solve this problem.\n",
    "(Hint: first sort the array and then solve the problem in linear time)"
   ]
  },
  {
   "cell_type": "code",
   "execution_count": 8,
   "id": "3d874b47-b5cd-4d39-aac8-70fb2aa58898",
   "metadata": {},
   "outputs": [
    {
     "name": "stdout",
     "output_type": "stream",
     "text": [
      "Yes, there is a pair with the sum 10\n"
     ]
    }
   ],
   "source": [
    "def has_pair_with_sum(arr, K):\n",
    "    n = len(arr)\n",
    "    for i in range(n):\n",
    "        for j in range(i+1, n):\n",
    "            if arr[i] + arr[j] == K:\n",
    "                return True\n",
    "    return False\n",
    "\n",
    "# Example usage:\n",
    "arr = [8, 4, 1, 6]\n",
    "K = 10\n",
    "result = has_pair_with_sum(arr, K)\n",
    "if result:\n",
    "    print(\"Yes, there is a pair with the sum\", K)\n",
    "else:\n",
    "    print(\"No such pair found.\")\n"
   ]
  },
  {
   "cell_type": "code",
   "execution_count": 9,
   "id": "fe19dff1-688a-4794-a528-24ee7375c93f",
   "metadata": {},
   "outputs": [
    {
     "name": "stdout",
     "output_type": "stream",
     "text": [
      "Yes, there is a pair with the sum 10\n"
     ]
    }
   ],
   "source": [
    "def has_pair_with_sum(arr, K):\n",
    "    arr.sort()\n",
    "    left = 0\n",
    "    right = len(arr) - 1\n",
    "\n",
    "    while left < right:\n",
    "        current_sum = arr[left] + arr[right]\n",
    "        if current_sum == K:\n",
    "            return True\n",
    "        elif current_sum < K:\n",
    "            left += 1\n",
    "        else:\n",
    "            right -= 1\n",
    "    return False\n",
    "\n",
    "# Example usage:\n",
    "arr = [8, 4, 1, 6]\n",
    "K = 10\n",
    "result = has_pair_with_sum(arr, K)\n",
    "if result:\n",
    "    print(\"Yes, there is a pair with the sum\", K)\n",
    "else:\n",
    "    print(\"No such pair found.\")\n"
   ]
  },
  {
   "cell_type": "code",
   "execution_count": null,
   "id": "a56d1ff2-464c-43cd-893b-a8288cc8d2c7",
   "metadata": {},
   "outputs": [],
   "source": []
  }
 ],
 "metadata": {
  "kernelspec": {
   "display_name": "Python 3 (ipykernel)",
   "language": "python",
   "name": "python3"
  },
  "language_info": {
   "codemirror_mode": {
    "name": "ipython",
    "version": 3
   },
   "file_extension": ".py",
   "mimetype": "text/x-python",
   "name": "python",
   "nbconvert_exporter": "python",
   "pygments_lexer": "ipython3",
   "version": "3.11.3"
  }
 },
 "nbformat": 4,
 "nbformat_minor": 5
}
