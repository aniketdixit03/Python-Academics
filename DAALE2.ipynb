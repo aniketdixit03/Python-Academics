{
 "cells": [
  {
   "cell_type": "code",
   "execution_count": 1,
   "metadata": {},
   "outputs": [
    {
     "name": "stdout",
     "output_type": "stream",
     "text": [
      "Items in the Knapsack:\n",
      "Value: 60, Weight: 10\n",
      "Value: 100, Weight: 20\n",
      "Value: 80.0, Weight: 20\n",
      "Total Value in the Knapsack: 240.0\n"
     ]
    }
   ],
   "source": [
    "def fractional_knapsack(items, capacity):\n",
    "    # Calculate the value-to-weight ratio for each item\n",
    "    value_per_weight = [(item[0] / item[1], item[0], item[1]) for item in items]\n",
    "\n",
    "    # Sort items based on the value-to-weight ratio in descending order\n",
    "    value_per_weight.sort(reverse=True)\n",
    "\n",
    "    total_value = 0  # Total value of items in the knapsack\n",
    "    knapsack = []    # Items selected in the knapsack\n",
    "\n",
    "    for ratio, value, weight in value_per_weight:\n",
    "        if capacity >= weight:\n",
    "            # Take the whole item if it fits in the knapsack\n",
    "            knapsack.append((value, weight))\n",
    "            total_value += value\n",
    "            capacity -= weight\n",
    "        else:\n",
    "            # Take a fraction of the item if it doesn't fit completely\n",
    "            fraction = capacity / weight\n",
    "            knapsack.append((fraction * value, capacity))\n",
    "            total_value += fraction * value\n",
    "            break\n",
    "\n",
    "    return knapsack, total_value\n",
    "\n",
    "# Example usage\n",
    "items = [(60, 10), (100, 20), (120, 30)]\n",
    "knapsack, total_value = fractional_knapsack(items, 50)\n",
    "\n",
    "print(\"Items in the Knapsack:\")\n",
    "for value, weight in knapsack:\n",
    "    print(f\"Value: {value}, Weight: {weight}\")\n",
    "\n",
    "print(f\"Total Value in the Knapsack: {total_value}\")\n"
   ]
  },
  {
   "cell_type": "code",
   "execution_count": 4,
   "metadata": {},
   "outputs": [
    {
     "name": "stdout",
     "output_type": "stream",
     "text": [
      "Maximized Sum: 20\n"
     ]
    }
   ],
   "source": [
    "def maximize_sum(arr):\n",
    "    # Sort the array in descending order\n",
    "    arr.sort()\n",
    "\n",
    "    # Calculate the sum of arr[i] * i\n",
    "    max_sum = sum(arr[i] * i for i in range(len(arr)))\n",
    "\n",
    "    return max_sum\n",
    "\n",
    "# Example usage\n",
    "arr = [4, 3, 1, 2]\n",
    "result = maximize_sum(arr)\n",
    "\n",
    "print(\"Maximized Sum:\", result)\n"
   ]
  },
  {
   "cell_type": "code",
   "execution_count": 3,
   "metadata": {},
   "outputs": [
    {
     "name": "stdout",
     "output_type": "stream",
     "text": [
      "Minimum Sum of Product of Pairs: 28\n"
     ]
    }
   ],
   "source": [
    "def minimize_product_sum(array_One, array_Two):\n",
    "    # Sort one array in ascending order\n",
    "    for i in range(len(array_One)):\n",
    "        for j in range(i + 1, len(array_One)):\n",
    "            if array_One[i] > array_One[j]:\n",
    "                array_One[i], array_One[j] = array_One[j], array_One[i]\n",
    "\n",
    "    # Sort the other array in descending order\n",
    "    for i in range(len(array_Two)):\n",
    "        for j in range(i + 1, len(array_Two)):\n",
    "            if array_Two[i] < array_Two[j]:\n",
    "                array_Two[i], array_Two[j] = array_Two[j], array_Two[i]\n",
    "\n",
    "    # Calculate the sum of the product of pairs\n",
    "    min_sum = sum(array_One[i] * array_Two[i] for i in range(len(array_One)))\n",
    "\n",
    "    return min_sum\n",
    "\n",
    "# Example usage\n",
    "array_One = [3, 1, 2]\n",
    "array_Two = [6, 5, 4]\n",
    "result = minimize_product_sum(array_One, array_Two)\n",
    "\n",
    "print(\"Minimum Sum of Product of Pairs:\", result)\n"
   ]
  },
  {
   "cell_type": "code",
   "execution_count": 7,
   "metadata": {},
   "outputs": [
    {
     "name": "stdout",
     "output_type": "stream",
     "text": [
      "Minimum number of candies needed: 4\n"
     ]
    }
   ],
   "source": [
    "def min_candies(ratings):\n",
    "    n = len(ratings)\n",
    "    candies = [1] * n  # Initialize candies with 1 for each child\n",
    "\n",
    "    # Traverse the array from left to right\n",
    "    for i in range(1, n):\n",
    "        if ratings[i] > ratings[i - 1]:\n",
    "            candies[i] = candies[i - 1] + 1\n",
    "\n",
    "    # Traverse the array from right to left\n",
    "    for i in range(n - 2, -1, -1):\n",
    "        if ratings[i] > ratings[i + 1]:\n",
    "            candies[i] = max(candies[i], candies[i + 1] + 1)\n",
    "\n",
    "    # Calculate the total number of candies needed\n",
    "    total_candies = sum(candies)\n",
    "\n",
    "    return total_candies\n",
    "\n",
    "# Take user input for the number of students\n",
    "n = int(input(\"Enter the number of students: \"))\n",
    "\n",
    "# Take user input for the ratings of each student\n",
    "ratings = []\n",
    "for i in range(n):\n",
    "    rating = int(input(f\"Enter the rating for student {i + 1}: \"))\n",
    "    ratings.append(rating)\n",
    "\n",
    "result = min_candies(ratings)\n",
    "\n",
    "print(\"Minimum number of candies needed:\", result)\n"
   ]
  },
  {
   "cell_type": "code",
   "execution_count": 8,
   "metadata": {},
   "outputs": [
    {
     "name": "stdout",
     "output_type": "stream",
     "text": [
      "Original data: hello world\n",
      "Encoded data: 11100001010110111101111001010001\n",
      "Decoded data: hello world\n"
     ]
    }
   ],
   "source": [
    "import heapq\n",
    "from collections import defaultdict\n",
    "\n",
    "class Node:\n",
    "    def __init__(self, char, freq):\n",
    "        self.char = char\n",
    "        self.freq = freq\n",
    "        self.left = None\n",
    "        self.right = None\n",
    "\n",
    "    def __lt__(self, other):\n",
    "        return self.freq < other.freq\n",
    "\n",
    "def build_huffman_tree(data):\n",
    "    frequency = defaultdict(int)\n",
    "    for char in data:\n",
    "        frequency[char] += 1\n",
    "\n",
    "    priority_queue = [Node(char, freq) for char, freq in frequency.items()]\n",
    "    heapq.heapify(priority_queue)\n",
    "\n",
    "    while len(priority_queue) > 1:\n",
    "        left_child = heapq.heappop(priority_queue)\n",
    "        right_child = heapq.heappop(priority_queue)\n",
    "\n",
    "        internal_node = Node(None, left_child.freq + right_child.freq)\n",
    "        internal_node.left = left_child\n",
    "        internal_node.right = right_child\n",
    "\n",
    "        heapq.heappush(priority_queue, internal_node)\n",
    "\n",
    "    return priority_queue[0]\n",
    "\n",
    "def generate_huffman_codes(root, current_code=\"\", result={}):\n",
    "    if root is not None:\n",
    "        if root.char is not None:\n",
    "            result[root.char] = current_code\n",
    "        generate_huffman_codes(root.left, current_code + \"0\", result)\n",
    "        generate_huffman_codes(root.right, current_code + \"1\", result)\n",
    "    return result\n",
    "\n",
    "def huffman_encoding(data):\n",
    "    root = build_huffman_tree(data)\n",
    "    codes = generate_huffman_codes(root)\n",
    "    encoded_data = \"\".join(codes[char] for char in data)\n",
    "    return encoded_data, root\n",
    "\n",
    "def huffman_decoding(encoded_data, root):\n",
    "    decoded_data = \"\"\n",
    "    current_node = root\n",
    "\n",
    "    for bit in encoded_data:\n",
    "        if bit == \"0\":\n",
    "            current_node = current_node.left\n",
    "        else:\n",
    "            current_node = current_node.right\n",
    "\n",
    "        if current_node.char is not None:\n",
    "            decoded_data += current_node.char\n",
    "            current_node = root\n",
    "\n",
    "    return decoded_data\n",
    "\n",
    "# Example usage\n",
    "data = \"hello world\"\n",
    "\n",
    "encoded_data, root = huffman_encoding(data)\n",
    "print(\"Original data:\", data)\n",
    "print(\"Encoded data:\", encoded_data)\n",
    "\n",
    "decoded_data = huffman_decoding(encoded_data, root)\n",
    "print(\"Decoded data:\", decoded_data)\n"
   ]
  },
  {
   "cell_type": "code",
   "execution_count": 9,
   "metadata": {},
   "outputs": [
    {
     "name": "stdout",
     "output_type": "stream",
     "text": [
      "Maximum number of jobs that can avail the resource:\n",
      "Job start time: 5, Job end time: 15\n",
      "Job start time: 15, Job end time: 25\n",
      "Job start time: 25, Job end time: 35\n"
     ]
    }
   ],
   "source": [
    "def maximum_jobs(jobs):\n",
    "    # Sort the jobs based on their finish times\n",
    "    jobs.sort(key=lambda x: x[1])\n",
    "\n",
    "    # Initialize variables\n",
    "    selected_jobs = []\n",
    "    current_end_time = float('-inf')\n",
    "\n",
    "    # Iterate through the sorted jobs\n",
    "    for job in jobs:\n",
    "        start_time, end_time = job\n",
    "        if start_time >= current_end_time:\n",
    "            selected_jobs.append(job)\n",
    "            current_end_time = end_time\n",
    "\n",
    "    return selected_jobs\n",
    "\n",
    "# Example usage\n",
    "jobs = [(0, 35), (10, 20), (25, 35), (5, 15), (15, 25), (13, 20), (24, 27)]\n",
    "result = maximum_jobs(jobs)\n",
    "\n",
    "print(\"Maximum number of jobs that can avail the resource:\")\n",
    "for job in result:\n",
    "    print(f\"Job start time: {job[0]}, Job end time: {job[1]}\")\n"
   ]
  },
  {
   "cell_type": "code",
   "execution_count": 11,
   "metadata": {},
   "outputs": [
    {
     "name": "stdout",
     "output_type": "stream",
     "text": [
      "Minimum number of machines needed: 2\n"
     ]
    }
   ],
   "source": [
    "def minimum_machines(jobs):\n",
    "    jobs.sort(key=lambda x: x[0])  # Sort jobs based on start times\n",
    "\n",
    "    machines = [0] * len(jobs)  # Initialize machines array\n",
    "\n",
    "    for i in range(len(jobs)):\n",
    "        assigned = False\n",
    "        for j in range(len(machines)):\n",
    "            if machines[j] <= jobs[i][0]:\n",
    "                machines[j] = jobs[i][1]\n",
    "                assigned = True\n",
    "                break\n",
    "\n",
    "        if not assigned:\n",
    "            machines.append(jobs[i][1])\n",
    "\n",
    "    return len(machines)\n",
    "\n",
    "# Take user input for the number of jobs\n",
    "num_jobs = int(input(\"Enter the number of jobs: \"))\n",
    "\n",
    "# Take user input for each job's start and end times\n",
    "jobs = []\n",
    "for i in range(num_jobs):\n",
    "    start_time = int(input(f\"Enter the start time for job {i + 1}: \"))\n",
    "    end_time = int(input(f\"Enter the end time for job {i + 1}: \"))\n",
    "    jobs.append((start_time, end_time))\n",
    "\n",
    "result = minimum_machines(jobs)\n",
    "\n",
    "print(\"Minimum number of machines needed:\", result)\n"
   ]
  },
  {
   "cell_type": "code",
   "execution_count": null,
   "metadata": {},
   "outputs": [],
   "source": [
    "def knapsack_01_greedy(items, capacity):\n",
    "    # Calculate the value-to-weight ratio for each item\n",
    "    value_per_weight = [(item[0] / item[1], item[0], item[1]) for item in items]\n",
    "\n",
    "    # Sort items based on the benefit (value) in descending order\n",
    "    value_per_weight.sort(reverse=True, key=lambda x: x[0])\n",
    "\n",
    "    total_value = 0\n",
    "    knapsack = []\n",
    "\n",
    "    for _, weight, benefit in value_per_weight:\n",
    "        if capacity >= weight:\n",
    "            # Take the whole item if it fits in the knapsack\n",
    "            knapsack.append((weight, benefit))\n",
    "            total_value += benefit\n",
    "            capacity -= weight\n",
    "\n",
    "    return total_value, knapsack\n",
    "\n",
    "# Example usage\n",
    "items = [(10, 2), (15, 5), (20, 4)]\n",
    "capacity = 8\n",
    "optimal_value, optimal_items = knapsack_01_greedy(items, capacity)\n",
    "\n",
    "print(\"Optimal value:\", optimal_value)\n",
    "print(\"Optimal items:\", optimal_items)\n"
   ]
  },
  {
   "cell_type": "code",
   "execution_count": 17,
   "metadata": {},
   "outputs": [
    {
     "name": "stdout",
     "output_type": "stream",
     "text": [
      "Number of ways to make change: 10\n",
      "Minimum number of coins to make change (using greedy): 2\n"
     ]
    }
   ],
   "source": [
    "def coin_change_ways(coins, target):\n",
    "    ways = [0] * (target + 1)\n",
    "    ways[0] = 1\n",
    "\n",
    "    for coin in coins:\n",
    "        for amount in range(coin, target + 1):\n",
    "            ways[amount] += ways[amount - coin]\n",
    "\n",
    "    return ways[target]\n",
    "\n",
    "def coin_change_greedy(coins, target):\n",
    "    coins.sort(reverse=True)\n",
    "    num_coins = 0\n",
    "\n",
    "    for coin in coins:\n",
    "        num_coins += target // coin\n",
    "        target %= coin\n",
    "\n",
    "    return num_coins\n",
    "\n",
    "# Example usage\n",
    "coins = [1, 2, 5]\n",
    "target_value = 10\n",
    "\n",
    "ways_to_make_change = coin_change_ways(coins, target_value)\n",
    "min_coins = coin_change_greedy(coins, target_value)\n",
    "\n",
    "print(\"Number of ways to make change:\", ways_to_make_change)\n",
    "print(\"Minimum number of coins to make change (using greedy):\", min_coins)\n"
   ]
  },
  {
   "cell_type": "code",
   "execution_count": 19,
   "metadata": {},
   "outputs": [
    {
     "name": "stdout",
     "output_type": "stream",
     "text": [
      "100\n"
     ]
    }
   ],
   "source": [
    "def maximumPeople(p, x, m, y, r):\n",
    "    n = len(p)\n",
    "\n",
    "    max_sunny_population = 0\n",
    "\n",
    "    for i in range(m):\n",
    "        cloud_start = max(y[i] - r[i], 0)\n",
    "        cloud_end = min(y[i] + r[i], max(x))\n",
    "\n",
    "        current_population = [0] * n\n",
    "\n",
    "        for j in range(n):\n",
    "            if cloud_start <= x[j] <= cloud_end:\n",
    "                current_population[j] = 0\n",
    "            else:\n",
    "                current_population[j] = p[j]\n",
    "\n",
    "        sunny_population = sum(current_population)\n",
    "\n",
    "        max_sunny_population = max(max_sunny_population, sunny_population)\n",
    "\n",
    "    return max_sunny_population\n",
    "\n",
    "# Example usage\n",
    "n = int(input())\n",
    "p = list(map(int, input().split()))\n",
    "x = list(map(int, input().split()))\n",
    "m = int(input())\n",
    "y = list(map(int, input().split()))\n",
    "r = list(map(int, input().split()))\n",
    "\n",
    "result = maximumPeople(p, x, m, y, r)\n",
    "print(result)\n"
   ]
  },
  {
   "cell_type": "code",
   "execution_count": null,
   "metadata": {},
   "outputs": [],
   "source": [
    "def pylons(k, arr):\n",
    "  \"\"\"\n",
    "  Finds the minimum number of power plants required to provide electricity to all cities in Goodland, given a distribution range of k and a list of city data.\n",
    "\n",
    "  Args:\n",
    "    k: An integer that represents the distribution range.\n",
    "    arr: A list of integers where each integer indicates suitability for building a plant.\n",
    "\n",
    "  Returns:\n",
    "    An integer that represents the minimum number of plants required or -1 if it is not possible.\n",
    "  \"\"\"\n",
    "\n",
    "  # Create a set to track the cities that have been served by a power plant.\n",
    "  served_cities = set()\n",
    "\n",
    "  # Iterate over the city data.\n",
    "  for i in range(len(arr)):\n",
    "    # If the city is suitable for building a power plant and has not yet been served,\n",
    "    # build a power plant there.\n",
    "    if arr[i] == 1 and i not in served_cities:\n",
    "      # Add the city to the set of served cities.\n",
    "      served_cities.add(i)\n",
    "\n",
    "      # Iterate over the cities within the distribution range of the power plant.\n",
    "      for j in range(i - k, i + k + 1):\n",
    "        # If the city is within the distribution range and has not yet been served,\n",
    "        # add it to the set of served cities.\n",
    "        if 0 <= j < len(arr) and j not in served_cities:\n",
    "          served_cities.add(j)\n",
    "\n",
    "  # If all cities have been served, return the number of power plants built.\n",
    "  # Otherwise, return -1.\n",
    "  if len(served_cities) == len(arr):\n",
    "    return len(served_cities)\n",
    "  else:\n",
    "    return -1\n",
    "\n"
   ]
  }
 ],
 "metadata": {
  "kernelspec": {
   "display_name": "base",
   "language": "python",
   "name": "python3"
  },
  "language_info": {
   "codemirror_mode": {
    "name": "ipython",
    "version": 3
   },
   "file_extension": ".py",
   "mimetype": "text/x-python",
   "name": "python",
   "nbconvert_exporter": "python",
   "pygments_lexer": "ipython3",
   "version": "3.11.4"
  }
 },
 "nbformat": 4,
 "nbformat_minor": 2
}
