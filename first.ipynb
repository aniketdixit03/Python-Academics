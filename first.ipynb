{
 "cells": [
  {
   "cell_type": "code",
   "execution_count": 1,
   "metadata": {},
   "outputs": [
    {
     "name": "stdout",
     "output_type": "stream",
     "text": [
      "hello\n"
     ]
    }
   ],
   "source": [
    "print('hello')"
   ]
  },
  {
   "cell_type": "code",
   "execution_count": 5,
   "metadata": {},
   "outputs": [
    {
     "data": {
      "text/plain": [
       "<IntegerArray>\n",
       "[\n",
       "[1, 2, 3],\n",
       "[4, 5, 6],\n",
       "[7, 8, 10]\n",
       "]\n",
       "Shape: (3, 3), dtype: Int64"
      ]
     },
     "execution_count": 5,
     "metadata": {},
     "output_type": "execute_result"
    }
   ],
   "source": [
    "import pandas as np\n",
    "\n",
    "# (ii) Create three arrays, reshape each, and find the mean of each array\n",
    "array1 = np.array([1, 2, 3, 4, 5, 6, 7, 8, 10])\n",
    "array2 = np.array([11, 12, 13, 14, 15, 16, 17, 18, 20])\n",
    "array3 = np.array([21, 22, 23, 24, 25, 27, 28, 29, 30])\n",
    "\n",
    "# Reshape each array into three sub-lists (3 rows and 3 columns)\n",
    "reshaped_array1 = array1.reshape(3, 3)\n",
    "reshaped_array2 = array2.reshape(3, 3)\n",
    "reshaped_array3 = array3.reshape(3, 3)\n",
    "\n",
    "reshaped_array1"
   ]
  },
  {
   "cell_type": "code",
   "execution_count": 7,
   "metadata": {},
   "outputs": [
    {
     "name": "stdout",
     "output_type": "stream",
     "text": [
      "   A   B\n",
      "0  1   4\n",
      "1  2   5\n",
      "2  3   6\n",
      "0  7  10\n",
      "1  8  11\n",
      "2  9  12\n",
      "Mean values:\n"
     ]
    },
    {
     "data": {
      "text/html": [
       "<div>\n",
       "<style scoped>\n",
       "    .dataframe tbody tr th:only-of-type {\n",
       "        vertical-align: middle;\n",
       "    }\n",
       "\n",
       "    .dataframe tbody tr th {\n",
       "        vertical-align: top;\n",
       "    }\n",
       "\n",
       "    .dataframe thead th {\n",
       "        text-align: right;\n",
       "    }\n",
       "</style>\n",
       "<table border=\"1\" class=\"dataframe\">\n",
       "  <thead>\n",
       "    <tr style=\"text-align: right;\">\n",
       "      <th></th>\n",
       "      <th>A</th>\n",
       "      <th>B</th>\n",
       "    </tr>\n",
       "  </thead>\n",
       "  <tbody>\n",
       "    <tr>\n",
       "      <th>0</th>\n",
       "      <td>4.0</td>\n",
       "      <td>7.0</td>\n",
       "    </tr>\n",
       "    <tr>\n",
       "      <th>1</th>\n",
       "      <td>5.0</td>\n",
       "      <td>8.0</td>\n",
       "    </tr>\n",
       "    <tr>\n",
       "      <th>2</th>\n",
       "      <td>6.0</td>\n",
       "      <td>9.0</td>\n",
       "    </tr>\n",
       "  </tbody>\n",
       "</table>\n",
       "</div>"
      ],
      "text/plain": [
       "     A    B\n",
       "0  4.0  7.0\n",
       "1  5.0  8.0\n",
       "2  6.0  9.0"
      ]
     },
     "execution_count": 7,
     "metadata": {},
     "output_type": "execute_result"
    }
   ],
   "source": [
    "import pandas as pd\n",
    "import numpy as np\n",
    "# (vi) Create two dictionaries, convert them into dataframes, concatenate them, and calculate mean values\n",
    "dict1 = {'A': [1, 2, 3], 'B': [4, 5, 6]}\n",
    "dict2 = {'A': [7, 8, 9], 'B': [10, 11, 12]}\n",
    "\n",
    "df1 = pd.DataFrame(dict1)\n",
    "df2 = pd.DataFrame(dict2)\n",
    "\n",
    "# Concatenate dataframes\n",
    "concatenated_df = pd.concat([df1, df2])\n",
    "print(concatenated_df)\n",
    "# Calculate mean values for each key\n",
    "mean_values = concatenated_df.groupby(concatenated_df.index).mean()\n",
    "print(\"Mean values:\")\n",
    "mean_values"
   ]
  }
 ],
 "metadata": {
  "kernelspec": {
   "display_name": "base",
   "language": "python",
   "name": "python3"
  },
  "language_info": {
   "codemirror_mode": {
    "name": "ipython",
    "version": 3
   },
   "file_extension": ".py",
   "mimetype": "text/x-python",
   "name": "python",
   "nbconvert_exporter": "python",
   "pygments_lexer": "ipython3",
   "version": "3.11.4"
  },
  "orig_nbformat": 4
 },
 "nbformat": 4,
 "nbformat_minor": 2
}
