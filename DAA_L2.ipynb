{
 "cells": [
  {
   "cell_type": "code",
   "execution_count": 1,
   "metadata": {},
   "outputs": [
    {
     "name": "stdout",
     "output_type": "stream",
     "text": [
      "Bubble Sort took 0.183862 seconds\n",
      "Quick Sort took 0.003224 seconds\n",
      "Merge Sort took 0.007080 seconds\n"
     ]
    }
   ],
   "source": [
    "import random\n",
    "import time\n",
    "\n",
    "# Generate 1000 random integers between 1 and 10000\n",
    "random_numbers = [random.randint(1, 10000) for _ in range(1000)]\n",
    "\n",
    "# Bubble Sort\n",
    "def bubble_sort(arr):\n",
    "    n = len(arr)\n",
    "    start_time = time.time()\n",
    "    for i in range(n):\n",
    "        for j in range(0, n-i-1):\n",
    "            if arr[j] > arr[j+1]:\n",
    "                arr[j], arr[j+1] = arr[j+1], arr[j]\n",
    "    end_time = time.time()\n",
    "    return end_time - start_time\n",
    "\n",
    "bubble_sort_time = bubble_sort(random_numbers.copy())\n",
    "print(f\"Bubble Sort took {bubble_sort_time:.6f} seconds\")\n",
    "\n",
    "# Quick Sort\n",
    "def quick_sort(arr):\n",
    "    if len(arr) <= 1:\n",
    "        return arr\n",
    "    else:\n",
    "        pivot = arr[0]\n",
    "        less_than_pivot = [x for x in arr[1:] if x <= pivot]\n",
    "        greater_than_pivot = [x for x in arr[1:] if x > pivot]\n",
    "        return quick_sort(less_than_pivot) + [pivot] + quick_sort(greater_than_pivot)\n",
    "\n",
    "random_numbers_copy = random_numbers.copy()\n",
    "start_time = time.time()\n",
    "quick_sort(random_numbers_copy)\n",
    "end_time = time.time()\n",
    "quick_sort_time = end_time - start_time\n",
    "print(f\"Quick Sort took {quick_sort_time:.6f} seconds\")\n",
    "\n",
    "# Merge Sort\n",
    "def merge_sort(arr):\n",
    "    if len(arr) <= 1:\n",
    "        return arr\n",
    "\n",
    "    mid = len(arr) // 2\n",
    "    left_half = arr[:mid]\n",
    "    right_half = arr[mid:]\n",
    "\n",
    "    left_half = merge_sort(left_half)\n",
    "    right_half = merge_sort(right_half)\n",
    "\n",
    "    return merge(left_half, right_half)\n",
    "\n",
    "def merge(left, right):\n",
    "    result = []\n",
    "    i = j = 0\n",
    "\n",
    "    while i < len(left) and j < len(right):\n",
    "        if left[i] < right[j]:\n",
    "            result.append(left[i])\n",
    "            i += 1\n",
    "        else:\n",
    "            result.append(right[j])\n",
    "            j += 1\n",
    "\n",
    "    result.extend(left[i:])\n",
    "    result.extend(right[j:])\n",
    "    return result\n",
    "\n",
    "random_numbers_copy = random_numbers.copy()\n",
    "start_time = time.time()\n",
    "merge_sort(random_numbers_copy)\n",
    "end_time = time.time()\n",
    "merge_sort_time = end_time - start_time\n",
    "print(f\"Merge Sort took {merge_sort_time:.6f} seconds\")\n"
   ]
  },
  {
   "cell_type": "code",
   "execution_count": 4,
   "metadata": {},
   "outputs": [
    {
     "name": "stdout",
     "output_type": "stream",
     "text": [
      "Sorted List 1: [0, 1, 3, 5, 7]\n",
      "Sorted List 2: [2, 4, 6, 8, 11, 32]\n",
      "Sorted List 3: [0, 5, 9, 10, 11, 23]\n"
     ]
    }
   ],
   "source": [
    "def print_sorted_lists(sorted_lists):\n",
    "    for i, lst in enumerate(sorted_lists):\n",
    "        sorted_list = sorted(lst)\n",
    "        print(f\"Sorted List {i + 1}: {sorted_list}\")\n",
    "\n",
    "# Example usage:\n",
    "list1 = [3, 1, 5, 7, 0]\n",
    "list2 = [4, 2, 6, 8, 32, 11]\n",
    "list3 = [11, 9, 0, 10, 23, 5]\n",
    "\n",
    "sorted_lists = [list1, list2, list3]\n",
    "\n",
    "print_sorted_lists(sorted_lists)\n"
   ]
  },
  {
   "cell_type": "code",
   "execution_count": 5,
   "metadata": {},
   "outputs": [
    {
     "name": "stdout",
     "output_type": "stream",
     "text": [
      "The 3 largest elements are: [8, 7, 6]\n"
     ]
    }
   ],
   "source": [
    "import heapq\n",
    "\n",
    "def find_k_largest_elements(arr, k):\n",
    "    # Create a min-heap of size K to store the K largest elements\n",
    "    min_heap = []\n",
    "\n",
    "    # Iterate through the array\n",
    "    for num in arr:\n",
    "        # If the heap size is less than K, add the element to the heap\n",
    "        if len(min_heap) < k:\n",
    "            heapq.heappush(min_heap, num)\n",
    "        else:\n",
    "            # If the current element is greater than the smallest element in the heap,\n",
    "            # replace the smallest element with the current element\n",
    "            if num > min_heap[0]:\n",
    "                heapq.heappop(min_heap)\n",
    "                heapq.heappush(min_heap, num)\n",
    "\n",
    "    # The min-heap now contains the K largest elements\n",
    "    return sorted(min_heap, reverse=True)\n",
    "\n",
    "# Example usage:\n",
    "arr = [3, 1, 5, 7, 4, 2, 6, 8]\n",
    "k = 3\n",
    "\n",
    "result = find_k_largest_elements(arr, k)\n",
    "print(f\"The {k} largest elements are: {result}\")\n"
   ]
  },
  {
   "cell_type": "code",
   "execution_count": 6,
   "metadata": {},
   "outputs": [
    {
     "name": "stdout",
     "output_type": "stream",
     "text": [
      "Maximum number of activities: 3\n",
      "Selected Activities:\n",
      "(1, 4)\n",
      "(5, 7)\n",
      "(8, 11)\n"
     ]
    }
   ],
   "source": [
    "def max_activities(activities):\n",
    "    # Sort the activities by their finishing times\n",
    "    activities.sort(key=lambda x: x[1])\n",
    "    \n",
    "    # The first activity is always selected\n",
    "    selected_activities = [activities[0]]\n",
    "    \n",
    "    # Initialize the index of the most recent selected activity\n",
    "    last_selected_index = 0\n",
    "    \n",
    "    # Iterate through the sorted activities\n",
    "    for i in range(1, len(activities)):\n",
    "        # If the start time of the current activity is greater than or equal to\n",
    "        # the finishing time of the last selected activity, select it\n",
    "        if activities[i][0] >= activities[last_selected_index][1]:\n",
    "            selected_activities.append(activities[i])\n",
    "            last_selected_index = i\n",
    "    \n",
    "    return selected_activities\n",
    "\n",
    "# Example usage:\n",
    "activities = [(1, 4), (3, 5), (0, 6), (5, 7), (3, 9), (5, 9), (6, 10), (8, 11), (8, 12), (2, 14)]\n",
    "result = max_activities(activities)\n",
    "\n",
    "print(f\"Maximum number of activities: {len(result)}\")\n",
    "print(\"Selected Activities:\")\n",
    "for activity in result:\n",
    "    print(activity)\n"
   ]
  },
  {
   "cell_type": "code",
   "execution_count": 8,
   "metadata": {},
   "outputs": [
    {
     "name": "stdout",
     "output_type": "stream",
     "text": [
      "Non-overlapping intervals after merging:\n",
      "(1, 6)\n",
      "(8, 10)\n",
      "(15, 18)\n"
     ]
    }
   ],
   "source": [
    "def merge_intervals(intervals):\n",
    "    if not intervals:\n",
    "        return []\n",
    "\n",
    "    # Sort the intervals by their start times\n",
    "    intervals.sort(key=lambda x: x[0])\n",
    "\n",
    "    merged_intervals = [intervals[0]]\n",
    "\n",
    "    for interval in intervals[1:]:\n",
    "        current_interval = merged_intervals[-1]\n",
    "\n",
    "        if interval[0] <= current_interval[1]:\n",
    "            # There is an overlap, so merge the intervals\n",
    "            merged_intervals[-1] = (current_interval[0], max(current_interval[1], interval[1]))\n",
    "        else:\n",
    "            # No overlap, add the current interval to the merged list\n",
    "            merged_intervals.append(interval)\n",
    "\n",
    "    return merged_intervals\n",
    "\n",
    "# Example usage:\n",
    "intervals = [(1, 3), (2, 6), (8, 10), (15, 18)]\n",
    "merged = merge_intervals(intervals)\n",
    "\n",
    "print(\"Non-overlapping intervals after merging:\")\n",
    "for interval in merged:\n",
    "    print(interval)\n"
   ]
  }
 ],
 "metadata": {
  "kernelspec": {
   "display_name": "base",
   "language": "python",
   "name": "python3"
  },
  "language_info": {
   "codemirror_mode": {
    "name": "ipython",
    "version": 3
   },
   "file_extension": ".py",
   "mimetype": "text/x-python",
   "name": "python",
   "nbconvert_exporter": "python",
   "pygments_lexer": "ipython3",
   "version": "3.11.4"
  },
  "orig_nbformat": 4
 },
 "nbformat": 4,
 "nbformat_minor": 2
}
