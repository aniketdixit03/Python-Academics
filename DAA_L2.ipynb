{
 "cells": [
  {
   "cell_type": "code",
   "execution_count": 1,
   "metadata": {},
   "outputs": [
    {
     "name": "stdout",
     "output_type": "stream",
     "text": [
      "Bubble Sort took 0.183862 seconds\n",
      "Quick Sort took 0.003224 seconds\n",
      "Merge Sort took 0.007080 seconds\n"
     ]
    }
   ],
   "source": [
    "import random\n",
    "import time\n",
    "\n",
    "# Generate 1000 random integers between 1 and 10000\n",
    "random_numbers = [random.randint(1, 10000) for _ in range(1000)]\n",
    "\n",
    "# Bubble Sort\n",
    "def bubble_sort(arr):\n",
    "    n = len(arr)\n",
    "    start_time = time.time()\n",
    "    for i in range(n):\n",
    "        for j in range(0, n-i-1):\n",
    "            if arr[j] > arr[j+1]:\n",
    "                arr[j], arr[j+1] = arr[j+1], arr[j]\n",
    "    end_time = time.time()\n",
    "    return end_time - start_time\n",
    "\n",
    "bubble_sort_time = bubble_sort(random_numbers.copy())\n",
    "print(f\"Bubble Sort took {bubble_sort_time:.6f} seconds\")\n",
    "\n",
    "# Quick Sort\n",
    "def quick_sort(arr):\n",
    "    if len(arr) <= 1:\n",
    "        return arr\n",
    "    else:\n",
    "        pivot = arr[0]\n",
    "        less_than_pivot = [x for x in arr[1:] if x <= pivot]\n",
    "        greater_than_pivot = [x for x in arr[1:] if x > pivot]\n",
    "        return quick_sort(less_than_pivot) + [pivot] + quick_sort(greater_than_pivot)\n",
    "\n",
    "random_numbers_copy = random_numbers.copy()\n",
    "start_time = time.time()\n",
    "quick_sort(random_numbers_copy)\n",
    "end_time = time.time()\n",
    "quick_sort_time = end_time - start_time\n",
    "print(f\"Quick Sort took {quick_sort_time:.6f} seconds\")\n",
    "\n",
    "# Merge Sort\n",
    "def merge_sort(arr):\n",
    "    if len(arr) <= 1:\n",
    "        return arr\n",
    "\n",
    "    mid = len(arr) // 2\n",
    "    left_half = arr[:mid]\n",
    "    right_half = arr[mid:]\n",
    "\n",
    "    left_half = merge_sort(left_half)\n",
    "    right_half = merge_sort(right_half)\n",
    "\n",
    "    return merge(left_half, right_half)\n",
    "\n",
    "def merge(left, right):\n",
    "    result = []\n",
    "    i = j = 0\n",
    "\n",
    "    while i < len(left) and j < len(right):\n",
    "        if left[i] < right[j]:\n",
    "            result.append(left[i])\n",
    "            i += 1\n",
    "        else:\n",
    "            result.append(right[j])\n",
    "            j += 1\n",
    "\n",
    "    result.extend(left[i:])\n",
    "    result.extend(right[j:])\n",
    "    return result\n",
    "\n",
    "random_numbers_copy = random_numbers.copy()\n",
    "start_time = time.time()\n",
    "merge_sort(random_numbers_copy)\n",
    "end_time = time.time()\n",
    "merge_sort_time = end_time - start_time\n",
    "print(f\"Merge Sort took {merge_sort_time:.6f} seconds\")\n"
   ]
  },
  {
   "cell_type": "code",
   "execution_count": 4,
   "metadata": {},
   "outputs": [
    {
     "name": "stdout",
     "output_type": "stream",
     "text": [
      "Sorted List 1: [0, 1, 3, 5, 7]\n",
      "Sorted List 2: [2, 4, 6, 8, 11, 32]\n",
      "Sorted List 3: [0, 5, 9, 10, 11, 23]\n"
     ]
    }
   ],
   "source": [
    "def print_sorted_lists(sorted_lists):\n",
    "    for i, lst in enumerate(sorted_lists):\n",
    "        sorted_list = sorted(lst)\n",
    "        print(f\"Sorted List {i + 1}: {sorted_list}\")\n",
    "\n",
    "# Example usage:\n",
    "list1 = [3, 1, 5, 7, 0]\n",
    "list2 = [4, 2, 6, 8, 32, 11]\n",
    "list3 = [11, 9, 0, 10, 23, 5]\n",
    "\n",
    "sorted_lists = [list1, list2, list3]\n",
    "\n",
    "print_sorted_lists(sorted_lists)\n"
   ]
  }
 ],
 "metadata": {
  "kernelspec": {
   "display_name": "base",
   "language": "python",
   "name": "python3"
  },
  "language_info": {
   "codemirror_mode": {
    "name": "ipython",
    "version": 3
   },
   "file_extension": ".py",
   "mimetype": "text/x-python",
   "name": "python",
   "nbconvert_exporter": "python",
   "pygments_lexer": "ipython3",
   "version": "3.11.4"
  },
  "orig_nbformat": 4
 },
 "nbformat": 4,
 "nbformat_minor": 2
}
