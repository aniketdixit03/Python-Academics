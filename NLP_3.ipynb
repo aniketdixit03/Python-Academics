{
 "cells": [
  {
   "cell_type": "code",
   "execution_count": 1,
   "metadata": {},
   "outputs": [
    {
     "name": "stdout",
     "output_type": "stream",
     "text": [
      "Levenshtein distance between 'kitten' and 'sitting' is 3\n"
     ]
    }
   ],
   "source": [
    "#without using built-in functions\n",
    "def levenshtein_distance(word1, word2):\n",
    "    m, n = len(word1), len(word2)\n",
    "    # Create a matrix to store the distances\n",
    "    dp = [[0] * (n + 1) for _ in range(m + 1)]\n",
    "\n",
    "    # Initialize the matrix\n",
    "    for i in range(m + 1):\n",
    "        dp[i][0] = i\n",
    "    for j in range(n + 1):\n",
    "        dp[0][j] = j\n",
    "\n",
    "    # Fill in the matrix\n",
    "    for i in range(1, m + 1):\n",
    "        for j in range(1, n + 1):\n",
    "            cost = 0 if word1[i - 1] == word2[j - 1] else 1\n",
    "            dp[i][j] = min(\n",
    "                dp[i - 1][j] + 1,      # Deletion\n",
    "                dp[i][j - 1] + 1,      # Insertion\n",
    "                dp[i - 1][j - 1] + cost  # Substitution\n",
    "            )\n",
    "\n",
    "    return dp[m][n]\n",
    "\n",
    "# Example usage\n",
    "word1 = \"kitten\"\n",
    "word2 = \"sitting\"\n",
    "distance = levenshtein_distance(word1, word2)\n",
    "print(f\"Levenshtein distance between '{word1}' and '{word2}' is {distance}\")\n"
   ]
  },
  {
   "cell_type": "code",
   "execution_count": null,
   "metadata": {},
   "outputs": [],
   "source": [
    "#using built-in functions\n",
    "#some errors need to be rectifed \n",
    "import difflib\n",
    "\n",
    "word1 = \"kitten\"\n",
    "word2 = \"sitting\"\n",
    "\n",
    "matcher = difflib.SequenceMatcher(None, word1, word2)\n",
    "distance = matcher.distance()\n",
    "\n",
    "print(f\"Levenshtein distance between '{word1}' and '{word2}' is {distance}\")\n"
   ]
  }
 ],
 "metadata": {
  "kernelspec": {
   "display_name": "base",
   "language": "python",
   "name": "python3"
  },
  "language_info": {
   "codemirror_mode": {
    "name": "ipython",
    "version": 3
   },
   "file_extension": ".py",
   "mimetype": "text/x-python",
   "name": "python",
   "nbconvert_exporter": "python",
   "pygments_lexer": "ipython3",
   "version": "3.11.4"
  },
  "orig_nbformat": 4
 },
 "nbformat": 4,
 "nbformat_minor": 2
}
